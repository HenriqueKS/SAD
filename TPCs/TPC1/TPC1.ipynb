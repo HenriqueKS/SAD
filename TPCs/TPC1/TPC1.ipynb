{
  "nbformat": 4,
  "nbformat_minor": 0,
  "metadata": {
    "colab": {
      "name": "TPC0.ipynb",
      "version": "0.3.2",
      "provenance": [],
      "collapsed_sections": []
    },
    "kernelspec": {
      "name": "python3",
      "display_name": "Python 3"
    }
  },
  "cells": [
    {
      "metadata": {
        "id": "4E_j107VCTXd",
        "colab_type": "text"
      },
      "cell_type": "markdown",
      "source": [
        "#TPC 0 - STRING VALIDATOR#\n",
        "\n",
        "Uma string S composta de N caracteres é considerada como correta se qualquer uma das seguintes condições for verdadeira:\n",
        "\n",
        "S for vazia;\n",
        "S tem a forma \"(U)\" ou \"[U]\" ou \"{U}\" onde U é também uma string correta;\n",
        "S tem a forma \"VW\" onde V e W são strings corretas.\n",
        "\n",
        "Assuma que:\n",
        "\n",
        "* N é um número inteiro dentro do intervalo [0..200,000];\n",
        "* A string S consiste apenas nos seguintes caracteres: \"(\", \"{\", \"[\", \"]\", \"}\" e / ou \")\"."
      ]
    },
    {
      "metadata": {
        "id": "DT0_J2yNEvcY",
        "colab_type": "text"
      },
      "cell_type": "markdown",
      "source": [
        "####How it works####\n",
        "\n",
        "* É testado se a string contém caratéres inválidos, sendo a string considerada inválida se for verdade \n",
        "* É testado se a string tem comprimento par, sendo dado como inválida se for ímpar \n",
        "* Um loop for percorre toda a string adicionando ao array ***arrayAbertos*** as brackets de abertura\n",
        "* Quando é encontrado uma bracket de fecho, é feito uma comparação com a última posição do ***arrayAbertos*** e se nesta estiver um par compatível é removida do array\n",
        "* No final da execução é feito um print com o valor de ***valid***:\n",
        " * String válida -> ***valid*** = 1\n",
        " * String inválida -> ***valid*** = 0\n"
      ]
    },
    {
      "metadata": {
        "id": "Ox2D78AbDTfE",
        "colab_type": "code",
        "colab": {
          "base_uri": "https://localhost:8080/",
          "height": 68
        },
        "outputId": "227d5bb8-d0db-42b4-d2b9-928414561f1f"
      },
      "cell_type": "code",
      "source": [
        "def validateString(testString):  \n",
        "  \n",
        "  \n",
        "  arrayAbertos = []\n",
        "  valid = 1\n",
        "  \n",
        "  if validateChar(testString):\n",
        "    \n",
        "    if( len(testString) %2 == 0):\n",
        "      \n",
        "      for j in testString:\n",
        "        \n",
        "        if(j == \"{\" or j == \"(\" or j == \"[\"):\n",
        "          arrayAbertos.append(j)\n",
        "        \n",
        "        if(j == \"}\" or j == \")\" or j == \"]\"):\n",
        "          if( (arrayAbertos[-1] == \"{\" and j == \"}\") or (arrayAbertos[-1] == \"[\" \n",
        "               and j == \"]\") or (arrayAbertos[-1] == \"(\" and j == \")\") ):\n",
        "            \n",
        "            arrayAbertos.pop()\n",
        "          else:\n",
        "            valid = 0\n",
        "            break\n",
        "  \n",
        "    else:\n",
        "      valid = 0\n",
        "      \n",
        "  else:\n",
        "    valid = 0\n",
        "    \n",
        "    \n",
        "    \n",
        "  print(\"String is \" + (\"valid\" if valid == 1 else \"invalid\"))  \n",
        "\n",
        "\n",
        "def validateChar(testString):\n",
        "  \n",
        "  testArray = [\"(\", \"{\", \"[\", \"]\", \"}\",\")\"]\n",
        "  \n",
        "  for k in testString:\n",
        "    if k not in testArray:\n",
        "      return False\n",
        "    \n",
        "  return True\n",
        "    \n",
        "  \n",
        "  \n",
        "  \n",
        "validateString(\"{([])()}[({})]\") \n",
        "validateString(\"{([])()(})[({})]\")\n",
        "validateString(\"{([?])(/)}[({})]\") \n",
        "  "
      ],
      "execution_count": 28,
      "outputs": [
        {
          "output_type": "stream",
          "text": [
            "String is valid\n",
            "String is invalid\n",
            "String is invalid\n"
          ],
          "name": "stdout"
        }
      ]
    },
    {
      "metadata": {
        "id": "AlYroXjKLRIT",
        "colab_type": "code",
        "colab": {}
      },
      "cell_type": "code",
      "source": [
        ""
      ],
      "execution_count": 0,
      "outputs": []
    }
  ]
}
