{
  "nbformat": 4,
  "nbformat_minor": 0,
  "metadata": {
    "colab": {
      "name": "PandasEx2Tpc3.ipynb",
      "version": "0.3.2",
      "provenance": [],
      "collapsed_sections": []
    },
    "kernelspec": {
      "display_name": "SADenv",
      "language": "python",
      "name": "sadenv"
    }
  },
  "cells": [
    {
      "metadata": {
        "id": "mF99ihAPiU87",
        "colab_type": "text"
      },
      "cell_type": "markdown",
      "source": [
        "\n",
        "# Sistemas de Suporte à Decisão\n",
        "\n",
        "---------------\n",
        "\n",
        "# TPC 3\n",
        "\n",
        "\n",
        "Crie um ficheiro em python para trabalhar o dataset \n",
        "\n",
        "```python \n",
        "    datasets.california_housing\n",
        "```\n",
        "\n",
        "Nesse ficheiro, crie um script (função) por alínea que lhe permita gerar novos datasets a partir do dataset principal, onde tenha usado cada um dos seguintes métodos de pre-processamento: \n",
        "\n",
        "    1) Aggregation\n",
        "    2) Sampling\n",
        "    4) Dimensionality Reduction \n",
        "    5) Feature Subset Selection \n",
        "    6) Feature Creation \n",
        "    7) Discretization and Binarization \n",
        "    8) Attribute Transformation\n",
        "\n",
        "\n",
        "O que é feito em cada caso, é da sua inteira liberdade. \n",
        "\n",
        "\n"
      ]
    },
    {
      "metadata": {
        "id": "vKEowek6imkl",
        "colab_type": "code",
        "colab": {
          "base_uri": "https://localhost:8080/",
          "height": 204
        },
        "outputId": "6743c7c9-3b28-4162-9a5d-e9c439b44251"
      },
      "cell_type": "code",
      "source": [
        "import sklearn.datasets as datasets\n",
        "import pandas as pd\n",
        "import numpy as np\n",
        "import matplotlib.pyplot as plt\n",
        "import random\n",
        "from sklearn.decomposition import PCA\n",
        "\n",
        "data = datasets.california_housing.fetch_california_housing()\n",
        "new_data =np.concatenate((data.data, data.target.reshape(-1,1)*100000), axis=1)\n",
        "\n",
        "### 5) Feature Creation\n",
        "\n",
        "names = data.feature_names + [\"Preços\"]\n",
        "dframe = pd.DataFrame(data=new_data, columns=names)\n",
        "dframe.head()"
      ],
      "execution_count": 2,
      "outputs": [
        {
          "output_type": "execute_result",
          "data": {
            "text/html": [
              "<div>\n",
              "<style scoped>\n",
              "    .dataframe tbody tr th:only-of-type {\n",
              "        vertical-align: middle;\n",
              "    }\n",
              "\n",
              "    .dataframe tbody tr th {\n",
              "        vertical-align: top;\n",
              "    }\n",
              "\n",
              "    .dataframe thead th {\n",
              "        text-align: right;\n",
              "    }\n",
              "</style>\n",
              "<table border=\"1\" class=\"dataframe\">\n",
              "  <thead>\n",
              "    <tr style=\"text-align: right;\">\n",
              "      <th></th>\n",
              "      <th>MedInc</th>\n",
              "      <th>HouseAge</th>\n",
              "      <th>AveRooms</th>\n",
              "      <th>AveBedrms</th>\n",
              "      <th>Population</th>\n",
              "      <th>AveOccup</th>\n",
              "      <th>Latitude</th>\n",
              "      <th>Longitude</th>\n",
              "      <th>Preços</th>\n",
              "    </tr>\n",
              "  </thead>\n",
              "  <tbody>\n",
              "    <tr>\n",
              "      <th>0</th>\n",
              "      <td>8.3252</td>\n",
              "      <td>41.0</td>\n",
              "      <td>6.984127</td>\n",
              "      <td>1.023810</td>\n",
              "      <td>322.0</td>\n",
              "      <td>2.555556</td>\n",
              "      <td>37.88</td>\n",
              "      <td>-122.23</td>\n",
              "      <td>452600.0</td>\n",
              "    </tr>\n",
              "    <tr>\n",
              "      <th>1</th>\n",
              "      <td>8.3014</td>\n",
              "      <td>21.0</td>\n",
              "      <td>6.238137</td>\n",
              "      <td>0.971880</td>\n",
              "      <td>2401.0</td>\n",
              "      <td>2.109842</td>\n",
              "      <td>37.86</td>\n",
              "      <td>-122.22</td>\n",
              "      <td>358500.0</td>\n",
              "    </tr>\n",
              "    <tr>\n",
              "      <th>2</th>\n",
              "      <td>7.2574</td>\n",
              "      <td>52.0</td>\n",
              "      <td>8.288136</td>\n",
              "      <td>1.073446</td>\n",
              "      <td>496.0</td>\n",
              "      <td>2.802260</td>\n",
              "      <td>37.85</td>\n",
              "      <td>-122.24</td>\n",
              "      <td>352100.0</td>\n",
              "    </tr>\n",
              "    <tr>\n",
              "      <th>3</th>\n",
              "      <td>5.6431</td>\n",
              "      <td>52.0</td>\n",
              "      <td>5.817352</td>\n",
              "      <td>1.073059</td>\n",
              "      <td>558.0</td>\n",
              "      <td>2.547945</td>\n",
              "      <td>37.85</td>\n",
              "      <td>-122.25</td>\n",
              "      <td>341300.0</td>\n",
              "    </tr>\n",
              "    <tr>\n",
              "      <th>4</th>\n",
              "      <td>3.8462</td>\n",
              "      <td>52.0</td>\n",
              "      <td>6.281853</td>\n",
              "      <td>1.081081</td>\n",
              "      <td>565.0</td>\n",
              "      <td>2.181467</td>\n",
              "      <td>37.85</td>\n",
              "      <td>-122.25</td>\n",
              "      <td>342200.0</td>\n",
              "    </tr>\n",
              "  </tbody>\n",
              "</table>\n",
              "</div>"
            ],
            "text/plain": [
              "   MedInc  HouseAge  AveRooms  AveBedrms  Population  AveOccup  Latitude  \\\n",
              "0  8.3252      41.0  6.984127   1.023810       322.0  2.555556     37.88   \n",
              "1  8.3014      21.0  6.238137   0.971880      2401.0  2.109842     37.86   \n",
              "2  7.2574      52.0  8.288136   1.073446       496.0  2.802260     37.85   \n",
              "3  5.6431      52.0  5.817352   1.073059       558.0  2.547945     37.85   \n",
              "4  3.8462      52.0  6.281853   1.081081       565.0  2.181467     37.85   \n",
              "\n",
              "   Longitude    Preços  \n",
              "0    -122.23  452600.0  \n",
              "1    -122.22  358500.0  \n",
              "2    -122.24  352100.0  \n",
              "3    -122.25  341300.0  \n",
              "4    -122.25  342200.0  "
            ]
          },
          "metadata": {
            "tags": []
          },
          "execution_count": 2
        }
      ]
    },
    {
      "metadata": {
        "id": "HqjOwq70jwp9",
        "colab_type": "code",
        "colab": {}
      },
      "cell_type": "code",
      "source": [
        "### 1) Aggregation\n",
        "\n",
        "def aggKeys(dframe,key):\n",
        "  \n",
        "  keyArr = [\"MedInc\",\"HouseAge\",\"AveRooms\",\"AveBedrms\",\"Population\",\"Latitude\",\"Longitude\",\"Preços\"]\n",
        "  \n",
        "  avgValue = np.mean(dframe.iloc[:,[key]])\n",
        "  print(\"Average value of \" + keyArr[key] + \" is \" + str(round(avgValue[0])))\n",
        "  \n",
        "  minValue = np.min(dframe.iloc[:,[key]])\n",
        "  print(\"Minimum value of \" + keyArr[key] + \" is \" + str(minValue[0]))\n",
        "  \n",
        "  maxValue = np.max(dframe.iloc[:,[key]])\n",
        "  print(\"Maximum value of \" + keyArr[key] + \" is \" + str(maxValue[0]))\n",
        "  \n",
        "  stat = dframe.groupby(keyArr[key]).agg([\"mean\",\"min\",\"max\"])\n",
        "  \n",
        "  return stat\n",
        "  \n",
        "aggKeys(dframe,0)    "
      ],
      "execution_count": 0,
      "outputs": []
    },
    {
      "metadata": {
        "id": "WoM8x6ToovQ2",
        "colab_type": "code",
        "colab": {}
      },
      "cell_type": "code",
      "source": [
        "### 2) Sampling\n",
        "\n",
        "def sampKeys(dframe):\n",
        "  \n",
        "  randValue = random.randint(0,10)\n",
        "  randomSample = dframe.sample(randValue)\n",
        "  return randomSample\n",
        "  \n",
        "sampKeys(dframe)  "
      ],
      "execution_count": 0,
      "outputs": []
    },
    {
      "metadata": {
        "id": "RK15QwmnulWd",
        "colab_type": "code",
        "colab": {}
      },
      "cell_type": "code",
      "source": [
        "### 3) Dimensionality Reduction \n",
        "\n",
        "def dimRed(dframe):\n",
        "    \n",
        "    pca = PCA(4)\n",
        "\n",
        "    redData = pca.fit_transform(dframe)\n",
        "\n",
        "    redDFrame = pd.DataFrame(redData)\n",
        "    redDFrame.index = dframe.index\n",
        "    redDFrame.columns = ['C1','C2','C3','C4']\n",
        "    \n",
        "    return redDFrame.head()\n",
        "\n",
        "dimRed(dframe)    "
      ],
      "execution_count": 0,
      "outputs": []
    },
    {
      "metadata": {
        "id": "avKDjpI4kWUY",
        "colab_type": "code",
        "colab": {}
      },
      "cell_type": "code",
      "source": [
        "### 4) Feature Subset Selection\n",
        "\n",
        "def subSelect(dframe,v1,v2):\n",
        "  \n",
        "  return dframe.iloc[v1:,[v2]]\n",
        "   \n",
        "subSelect(dframe,0,2)  "
      ],
      "execution_count": 0,
      "outputs": []
    },
    {
      "metadata": {
        "id": "es3icnL3nmw0",
        "colab_type": "code",
        "colab": {}
      },
      "cell_type": "code",
      "source": [
        "### 6) Discretization and Binarization \n",
        "\n",
        "def discBin(dframe):\n",
        "  \n",
        "  keyArr = [\"MedInc\",\"HouseAge\",\"AveRooms\",\"AveBedrms\",\"Population\",\"Latitude\",\"Longitude\",\"Preços\"]\n",
        "  \n",
        "  return pd.concat([dframe, pd.get_dummies(dframe, '', '').astype(bool)], axis=1)[keyArr]\n",
        "\n",
        "discBin(dframe)"
      ],
      "execution_count": 0,
      "outputs": []
    },
    {
      "metadata": {
        "id": "5rmwqeI-ri6j",
        "colab_type": "code",
        "colab": {}
      },
      "cell_type": "code",
      "source": [
        "### 7) Attribute Transformation\n",
        "\n",
        "def attTransf(dframe):\n",
        "  \n",
        "  return dframe.transform(lambda x: x * x.min())\n",
        "\n",
        "attTransf(dframe)\n",
        "  "
      ],
      "execution_count": 0,
      "outputs": []
    }
  ]
}
