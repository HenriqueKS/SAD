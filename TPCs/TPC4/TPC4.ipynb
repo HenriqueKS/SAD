{
  "nbformat": 4,
  "nbformat_minor": 0,
  "metadata": {
    "colab": {
      "name": "TPC4.ipynb",
      "version": "0.3.2",
      "provenance": [],
      "collapsed_sections": []
    },
    "kernelspec": {
      "name": "python3",
      "display_name": "Python 3"
    }
  },
  "cells": [
    {
      "metadata": {
        "id": "JVA43_alfpt4",
        "colab_type": "text"
      },
      "cell_type": "markdown",
      "source": [
        "# SAD - TPC 4\n",
        "\n",
        "### Aplicar Algoritmos\n",
        "\n",
        "----\n",
        "\n",
        "\n",
        "- Usando sklearn correr os métodos Decision Tree, Random Forrest e Naive Bayes para o dataset Digits, definido em baixo;\n",
        "\n",
        "- Usar o training set para executar o treino do modelo;\n",
        "\n",
        "- Comparar o erro obtido em cada método, para o testset e para o training set e expecificar se os valores são os esperados;\n",
        "\n",
        "- Para um dos algoritmos, dar exemplos do test set de instâncias mal bem classificadas (2 de cada);\n",
        "\n"
      ]
    },
    {
      "metadata": {
        "id": "cvFEf644fpt7",
        "colab_type": "code",
        "colab": {}
      },
      "cell_type": "code",
      "source": [
        "\n",
        "# Import datasets, classifiers and performance metrics\n",
        "from sklearn import datasets,model_selection\n",
        "import pandas as pd\n",
        "import numpy as np\n",
        "import matplotlib.pyplot as plt\n",
        "\n",
        "\n",
        "# The digits dataset\n",
        "digits_dataset = datasets.load_digits()\n",
        "\n",
        "[features_train, features_test, classes_train, classes_test] = model_selection.train_test_split(digits_dataset.data, digits_dataset.target, test_size=0.30)\n"
      ],
      "execution_count": 0,
      "outputs": []
    },
    {
      "metadata": {
        "id": "0NRtsOGtK_NT",
        "colab_type": "code",
        "colab": {}
      },
      "cell_type": "code",
      "source": [
        "!python3 -m pip install graphviz\n",
        "!python3 -m pip install pydot\n",
        "!apt-get install graphviz"
      ],
      "execution_count": 0,
      "outputs": []
    },
    {
      "metadata": {
        "id": "ixI1eJNbNb-0",
        "colab_type": "text"
      },
      "cell_type": "markdown",
      "source": [
        "# Decision Tree\n",
        "\n",
        "\n",
        "\n"
      ]
    },
    {
      "metadata": {
        "id": "kvu9v4H3kV9W",
        "colab_type": "code",
        "outputId": "07d72104-83c2-4e83-9225-a4dbd484a26e",
        "colab": {
          "base_uri": "https://localhost:8080/",
          "height": 52
        }
      },
      "cell_type": "code",
      "source": [
        "from sklearn import tree\n",
        "\n",
        "model = tree.DecisionTreeClassifier()\n",
        "\n",
        "trained_model = model.fit(features_train, classes_train)\n",
        "\n",
        "score_train = model.score(features_train, classes_train)\n",
        "score_test = model.score(features_test, classes_test)\n",
        "\n",
        "print(\"score_train:\", score_train)\n",
        "print(\"score_test:\", score_test)"
      ],
      "execution_count": 0,
      "outputs": [
        {
          "output_type": "stream",
          "text": [
            "score_train: 1.0\n",
            "score_test: 0.8481481481481481\n"
          ],
          "name": "stdout"
        }
      ]
    },
    {
      "metadata": {
        "id": "t6qe-3uuN3cV",
        "colab_type": "text"
      },
      "cell_type": "markdown",
      "source": [
        "# Random Forrest"
      ]
    },
    {
      "metadata": {
        "id": "brK_ESv7N6CL",
        "colab_type": "code",
        "outputId": "38754e80-8ab4-45fb-f2d4-5e341146f310",
        "colab": {
          "base_uri": "https://localhost:8080/",
          "height": 52
        }
      },
      "cell_type": "code",
      "source": [
        "from sklearn.ensemble import RandomForestClassifier\n",
        "\n",
        "model = RandomForestClassifier(n_estimators=1000)\n",
        "\n",
        "trained_model = model.fit(features_train, classes_train)\n",
        "\n",
        "score_train = model.score(features_train, classes_train)\n",
        "score_test = model.score(features_test, classes_test)\n",
        "\n",
        "print(\"score_train:\", score_train)\n",
        "print(\"score_test:\", score_test)"
      ],
      "execution_count": 0,
      "outputs": [
        {
          "output_type": "stream",
          "text": [
            "score_train: 1.0\n",
            "score_test: 0.9703703703703703\n"
          ],
          "name": "stdout"
        }
      ]
    },
    {
      "metadata": {
        "id": "ljlYGOw8OsKj",
        "colab_type": "text"
      },
      "cell_type": "markdown",
      "source": [
        "# Naive Bayes"
      ]
    },
    {
      "metadata": {
        "id": "IyUm7S85Orxs",
        "colab_type": "code",
        "outputId": "b3a5c206-cb0f-4384-afce-30738cad5507",
        "colab": {
          "base_uri": "https://localhost:8080/",
          "height": 52
        }
      },
      "cell_type": "code",
      "source": [
        "from sklearn.naive_bayes import GaussianNB\n",
        "\n",
        "gnb = GaussianNB()\n",
        "\n",
        "y_pred = gnb.fit(features_train, classes_train)\n",
        "\n",
        "score_train = gnb.score(features_train, classes_train)\n",
        "score_test = gnb.score(features_test, classes_test)\n",
        "\n",
        "print(\"score_train:\", score_train)\n",
        "print(\"score_test:\", score_test)"
      ],
      "execution_count": 0,
      "outputs": [
        {
          "output_type": "stream",
          "text": [
            "score_train: 0.8464598249801114\n",
            "score_test: 0.812962962962963\n"
          ],
          "name": "stdout"
        }
      ]
    }
  ]
}